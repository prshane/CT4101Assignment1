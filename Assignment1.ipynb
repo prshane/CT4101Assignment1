{
 "cells": [
  {
   "cell_type": "code",
   "execution_count": 1,
   "id": "638e02d4-cfea-4bc2-90d6-086637601574",
   "metadata": {},
   "outputs": [],
   "source": [
    "# random forest model"
   ]
  },
  {
   "cell_type": "code",
   "execution_count": 2,
   "id": "4b6c8794-d480-4bb0-9abf-98285dfba97b",
   "metadata": {},
   "outputs": [],
   "source": [
    "# imports\n",
    "import pandas as pd\n",
    "from sklearn.ensemble import RandomForestClassifier\n",
    "from sklearn.metrics import accuracy_score, classification_report\n",
    "import matplotlib.pyplot as plt"
   ]
  },
  {
   "cell_type": "code",
   "execution_count": 3,
   "id": "4ddc456a-09bd-43ea-b73a-da884e02e62c",
   "metadata": {},
   "outputs": [
    {
     "name": "stdout",
     "output_type": "stream",
     "text": [
      "Current directory: C:\\Users\\shane\\CT4101 Galway\n",
      "Files: ['.git', '.ipynb_checkpoints', 'Assignment1', 'Assignment1.ipynb', 'wildfires_test.csv', 'wildfires_training.csv']\n"
     ]
    }
   ],
   "source": [
    "import os\n",
    "cwd = os.getcwd()\n",
    "files = os.listdir()\n",
    "print(\"Current directory:\", cwd)\n",
    "print(\"Files:\", files)"
   ]
  },
  {
   "cell_type": "code",
   "execution_count": 4,
   "id": "06d29d7d-68cf-437b-92dc-8cd115b3533a",
   "metadata": {},
   "outputs": [
    {
     "name": "stdout",
     "output_type": "stream",
     "text": [
      "Training data shape: (154, 10)\n",
      "Test data shape: (50, 10)\n",
      "\n",
      "Training data head:\n",
      "  fire  year  temp  humidity  rainfall  drought_code  buildup_index  day  \\\n",
      "0   no  2015    28        59       0.0          8.06           3.47    1   \n",
      "1   no  2010    30        61       1.3          8.17           4.03    2   \n",
      "2   no  2009    26        83      13.1          8.08           3.59    3   \n",
      "3   no  2017    25        87       2.5          7.18           2.42    4   \n",
      "4   no  2014    28        77       0.0         14.98           4.63    5   \n",
      "\n",
      "   month  wind_speed  \n",
      "0      6          19  \n",
      "1      6          13  \n",
      "2      6          22  \n",
      "3      6          15  \n",
      "4      6          18  \n",
      "\n",
      "Test data head:\n",
      "  fire  year  temp  humidity  rainfall  drought_code  buildup_index  day  \\\n",
      "0   no  2015    33        68       4.5          9.12           5.09   19   \n",
      "1  yes  2009    28        56       0.0         38.17          21.21   12   \n",
      "2   no  2017    30        64       0.6         15.38           6.24   24   \n",
      "3   no  2007    23        74       8.3          7.36           2.27   14   \n",
      "4   no  2017    31        72       0.3         30.47           5.63    7   \n",
      "\n",
      "   month  wind_speed  \n",
      "0      6          16  \n",
      "1      6          18  \n",
      "2      9          19  \n",
      "3      9          28  \n",
      "4      9          17  \n"
     ]
    }
   ],
   "source": [
    "# load data\n",
    "df_training = pd.read_csv(\"wildfires_training.csv\")\n",
    "df_test = pd.read_csv(\"wildfires_test.csv\")\n",
    "\n",
    "# independent (feature) and dependent (target) columns\n",
    "independent_cols = [\"year\", \"temp\", \"humidity\", \"rainfall\", \"drought_code\",\n",
    "                    \"buildup_index\", \"day\", \"month\", \"wind_speed\"]\n",
    "dependent_col = \"fire\"\n",
    "\n",
    "# shape and preview\n",
    "print(\"Training data shape:\", df_training.shape)\n",
    "print(\"Test data shape:\", df_test.shape)\n",
    "\n",
    "print(\"\\nTraining data head:\")\n",
    "print(df_training.head())\n",
    "\n",
    "print(\"\\nTest data head:\")\n",
    "print(df_test.head())"
   ]
  },
  {
   "cell_type": "code",
   "execution_count": 5,
   "id": "a1f628f4-9ab9-4b06-a277-2a2bf49222bb",
   "metadata": {},
   "outputs": [
    {
     "name": "stdout",
     "output_type": "stream",
     "text": [
      "Encoded training data preview:\n",
      "  fire  year  temp  humidity  rainfall  drought_code  buildup_index  day  \\\n",
      "0   no  2015    28        59       0.0          8.06           3.47    1   \n",
      "1   no  2010    30        61       1.3          8.17           4.03    2   \n",
      "2   no  2009    26        83      13.1          8.08           3.59    3   \n",
      "3   no  2017    25        87       2.5          7.18           2.42    4   \n",
      "4   no  2014    28        77       0.0         14.98           4.63    5   \n",
      "\n",
      "   month  wind_speed  fire_enc  \n",
      "0      6          19         0  \n",
      "1      6          13         0  \n",
      "2      6          22         0  \n",
      "3      6          15         0  \n",
      "4      6          18         0  \n",
      "\n",
      "X_training shape: (154, 9)\n",
      "y_training shape: (154,)\n",
      "\n",
      "X_test shape: (50, 9)\n",
      "y_test shape: (50,)\n"
     ]
    }
   ],
   "source": [
    "# encode target column: yes = 1 - no = 0\n",
    "df_training[\"fire_enc\"] = df_training[\"fire\"].map({\"yes\": 1, \"no\": 0}) #classifier processes numerically\n",
    "df_test[\"fire_enc\"] = df_test[\"fire\"].map({\"yes\": 1, \"no\": 0})\n",
    "\n",
    "print(\"Encoded training data preview:\")\n",
    "print(df_training.head())\n",
    "\n",
    "# set up X ( features) and y (target) for training and test sets\n",
    "X_training = df_training[independent_cols]\n",
    "y_training = df_training[\"fire_enc\"] # target column\n",
    "\n",
    "X_test = df_test[independent_cols]\n",
    "y_test = df_test[\"fire_enc\"]\n",
    "\n",
    "# shapes\n",
    "print(\"\\nX_training shape:\", X_training.shape)\n",
    "print(\"y_training shape:\", y_training.shape)\n",
    "print(\"\\nX_test shape:\", X_test.shape)\n",
    "print(\"y_test shape:\", y_test.shape)"
   ]
  },
  {
   "cell_type": "code",
   "execution_count": 6,
   "id": "ef04b1b1-7087-4e2d-a0ea-c44eebcd2b9b",
   "metadata": {
    "scrolled": true
   },
   "outputs": [
    {
     "name": "stdout",
     "output_type": "stream",
     "text": [
      "Accuracy on test set: 0.88\n",
      "\n",
      "Classification report:\n",
      "               precision    recall  f1-score   support\n",
      "\n",
      "           0       0.81      0.95      0.88        22\n",
      "           1       0.96      0.82      0.88        28\n",
      "\n",
      "    accuracy                           0.88        50\n",
      "   macro avg       0.88      0.89      0.88        50\n",
      "weighted avg       0.89      0.88      0.88        50\n",
      "\n"
     ]
    }
   ],
   "source": [
    "# initialize RF model, random_state=1 for reproducibility\n",
    "rf = RandomForestClassifier(random_state=1)\n",
    "#rf = RandomForestClassifier()\n",
    "\n",
    "# fit model on training data\n",
    "rf.fit(X_training, y_training)\n",
    "\n",
    "# make predictions on test data\n",
    "y_pred = rf.predict(X_test)\n",
    "\n",
    "# evaluate performance\n",
    "print(\"Accuracy on test set:\", accuracy_score(y_test, y_pred))\n",
    "print(\"\\nClassification report:\\n\", classification_report(y_test, y_pred))"
   ]
  },
  {
   "cell_type": "code",
   "execution_count": 7,
   "id": "356b9f22-ad06-48ab-90aa-2efc905e2594",
   "metadata": {},
   "outputs": [
    {
     "data": {
      "image/png": "[encoded data removed]",
      "text/plain": [
       "<Figure size 800x500 with 1 Axes>"
      ]
     },
     "metadata": {},
     "output_type": "display_data"
    }
   ],
   "source": [
    "# keep for report?\n",
    "# feature importances\n",
    "importances = rf.feature_importances_\n",
    "\n",
    "# bar plot of importances\n",
    "plt.figure(figsize=(8,5))\n",
    "plt.barh(independent_cols, importances)\n",
    "plt.xlabel(\"importance\")\n",
    "plt.ylabel(\"feature\")\n",
    "plt.title(\"feature importance in rf\")\n",
    "plt.show()"
   ]
  }
 ],
 "metadata": {
  "kernelspec": {
   "display_name": "Python 3 (ipykernel)",
   "language": "python",
   "name": "python3"
  },
  "language_info": {
   "codemirror_mode": {
    "name": "ipython",
    "version": 3
   },
   "file_extension": ".py",
   "mimetype": "text/x-python",
   "name": "python",
   "nbconvert_exporter": "python",
   "pygments_lexer": "ipython3",
   "version": "3.14.0"
  }
 },
 "nbformat": 4,
 "nbformat_minor": 5
}
