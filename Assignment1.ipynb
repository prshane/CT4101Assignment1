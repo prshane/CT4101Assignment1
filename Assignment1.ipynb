{
 "cells": [
  {
   "cell_type": "code",
   "execution_count": 1,
   "id": "638e02d4-cfea-4bc2-90d6-086637601574",
   "metadata": {},
   "outputs": [],
   "source": [
    "# random forest model"
   ]
  },
  {
   "cell_type": "code",
   "execution_count": 2,
   "id": "4b6c8794-d480-4bb0-9abf-98285dfba97b",
   "metadata": {},
   "outputs": [],
   "source": [
    "# imports\n",
    "import pandas as pd\n",
    "from sklearn.ensemble import RandomForestClassifier\n",
    "from sklearn.metrics import accuracy_score, classification_report\n",
    "import matplotlib.pyplot as plt"
   ]
  },
  {
   "cell_type": "code",
   "execution_count": 3,
   "id": "4ddc456a-09bd-43ea-b73a-da884e02e62c",
   "metadata": {},
   "outputs": [
    {
     "name": "stdout",
     "output_type": "stream",
     "text": [
      "Current directory: C:\\Users\\shane\\CT4101 Galway\n",
      "Files: ['.git', '.ipynb_checkpoints', 'Assignment1', 'Assignment1.ipynb', 'wildfires_test.csv', 'wildfires_training.csv']\n"
     ]
    }
   ],
   "source": [
    "import os\n",
    "cwd = os.getcwd()\n",
    "files = os.listdir()\n",
    "print(\"Current directory:\", cwd)\n",
    "print(\"Files:\", files)"
   ]
  },
  {
   "cell_type": "code",
   "execution_count": null,
   "id": "06d29d7d-68cf-437b-92dc-8cd115b3533a",
   "metadata": {},
   "outputs": [],
   "source": [
    "# load data\n",
    "df_training = pd.read_csv(\"wildfires_training.csv\")\n",
    "df_test = pd.read_csv(\"wildfires_test.csv\")\n",
    "\n",
    "# independent (feature) and dependent (target) columns\n",
    "independent_cols = [\"year\", \"temp\", \"humidity\", \"rainfall\", \"drought_code\",\n",
    "                    \"buildup_index\", \"day\", \"month\", \"wind_speed\"]\n",
    "dependent_col = \"fire\"\n",
    "\n",
    "# shape and preview\n",
    "print(\"Training data shape:\", df_training.shape)\n",
    "print(\"Test data shape:\", df_test.shape)\n",
    "\n",
    "print(\"\\nTraining data head:\")\n",
    "print(df_training.head())\n",
    "\n",
    "print(\"\\nTest data head:\")\n",
    "print(df_test.head())"
   ]
  }
 ],
 "metadata": {
  "kernelspec": {
   "display_name": "Python 3 (ipykernel)",
   "language": "python",
   "name": "python3"
  },
  "language_info": {
   "codemirror_mode": {
    "name": "ipython",
    "version": 3
   },
   "file_extension": ".py",
   "mimetype": "text/x-python",
   "name": "python",
   "nbconvert_exporter": "python",
   "pygments_lexer": "ipython3",
   "version": "3.14.0"
  }
 },
 "nbformat": 4,
 "nbformat_minor": 5
}
